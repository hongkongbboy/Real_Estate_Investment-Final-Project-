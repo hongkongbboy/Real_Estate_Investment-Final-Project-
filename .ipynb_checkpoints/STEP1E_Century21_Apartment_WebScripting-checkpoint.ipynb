{
 "cells": [
  {
   "cell_type": "code",
   "execution_count": 9,
   "metadata": {},
   "outputs": [],
   "source": [
    "# Dependencies\n",
    "from bs4 import BeautifulSoup\n",
    "import requests\n",
    "import pandas as pd"
   ]
  },
  {
   "cell_type": "code",
   "execution_count": 10,
   "metadata": {},
   "outputs": [
    {
     "data": {
      "text/plain": [
       "[]"
      ]
     },
     "execution_count": 10,
     "metadata": {},
     "output_type": "execute_result"
    }
   ],
   "source": [
    "#Testing\n",
    "linked = 'https://www.century21.com/real-estate/california/LSCA/'\n",
    "\n",
    "response = requests.get(linked)\n",
    "soup = BeautifulSoup(response.text, 'html.parser')\n",
    "result = soup.find_all('div', class_='infinite-item')\n",
    "result"
   ]
  },
  {
   "cell_type": "code",
   "execution_count": 3,
   "metadata": {},
   "outputs": [],
   "source": [
    "#Set up list to hold response info\n",
    "house_dict = []"
   ]
  },
  {
   "cell_type": "code",
   "execution_count": 4,
   "metadata": {},
   "outputs": [
    {
     "name": "stdout",
     "output_type": "stream",
     "text": [
      "[]\n"
     ]
    }
   ],
   "source": [
    "# Loop through x pages of the website with filter of Single House\n",
    "page_link = 'https://www.century21.com/real-estate/california/LSCA/?sn=5&sk=Y&pt=7&p={}'\n",
    "for link in [page_link.format(page) for page in range(1,50)]:\n",
    "    res = requests.get(link)\n",
    "    new_soup = BeautifulSoup(res.text, 'html.parser')\n",
    "    new_results = new_soup.find_all('div', class_='infinite-item')\n",
    "\n",
    "    # Loop through returned results\n",
    "    for result in new_results:\n",
    "        # Error handling\n",
    "        try:\n",
    "            # Identify and return listing type\n",
    "            listing_type = result.find('div', class_=\"pdp-listing-type\").text\n",
    "            # Identify and return price of House\n",
    "            price = result.find('a', class_=\"listing-price\").text\n",
    "            # Identify and return number and street address of House\n",
    "            street = result.find('div', class_=\"property-address\").text\n",
    "            # Identify and return city, state, and zip code of House\n",
    "            city = result.find('div', class_=\"property-city\").text\n",
    "            zip_code = city.strip().replace(\"\\n\", \"\")\n",
    "            City_state = zip_code[:-6]\n",
    "            # Identify and return room number of House\n",
    "            bed = result.find('div', class_=\"property-beds\").find('strong').text\n",
    "            # Identify and return bath number of House\n",
    "            bath = result.find('div', class_=\"property-baths\").find('strong').text\n",
    "            # Identify and return half-bath number of House. If half-bath does not exist, it will return 0\n",
    "            try:    \n",
    "                half_bath = result.find('div', class_=\"property-half-baths\").find('strong').text\n",
    "            except:\n",
    "                half_bath = \"0\"\n",
    "                pass\n",
    "            # Identify and return sqft of House\n",
    "            sqft = result.find('div', class_=\"property-sqft\").find('strong').text\n",
    "            # Identify coordinate\n",
    "\n",
    "            latitude = result.get(\"data-latitude\")\n",
    "            longitude = result.get(\"data-longitude\")\n",
    "\n",
    "            # Print results only if title, price, and link are available\n",
    "            if (listing_type and price and street and city and bed and bath and sqft and latitude and longitude):\n",
    "                house_obj = {\n",
    "                \"Listing_type\": listing_type,\n",
    "                \"Price\": price.strip().replace(\"\\n\", \"\"),\n",
    "                \"Street\": street.strip().replace(\"\\n\", \"\"),\n",
    "                \"City\": City_state[:-3],\n",
    "                \"State\": City_state[-2:],\n",
    "                \"Zip_code\": zip_code[-5:],\n",
    "                \"Bed\": bed.strip().replace(\"\\n\", \"\"),\n",
    "                \"Half-bath\": half_bath.strip().replace(\"\\n\", \"\"),\n",
    "                \"Bath\": bath.strip().replace(\"\\n\", \"\"),\n",
    "                \"Square_Feet\": sqft.strip().replace(\"\\n\", \"\"),\n",
    "                \"House_type\": \"Apartment\",\n",
    "                \"Latitude\": latitude,\n",
    "                \"Longitude\": longitude\n",
    "                }\n",
    "\n",
    "                #Continue to add data into collection house_dict\n",
    "                house_dict.append(house_obj)\n",
    "\n",
    "        except AttributeError as e:\n",
    "            continue\n",
    "            # print(e)\n",
    "\n",
    "print(house_dict)"
   ]
  },
  {
   "cell_type": "code",
   "execution_count": 5,
   "metadata": {},
   "outputs": [
    {
     "data": {
      "text/html": [
       "<div>\n",
       "<style scoped>\n",
       "    .dataframe tbody tr th:only-of-type {\n",
       "        vertical-align: middle;\n",
       "    }\n",
       "\n",
       "    .dataframe tbody tr th {\n",
       "        vertical-align: top;\n",
       "    }\n",
       "\n",
       "    .dataframe thead th {\n",
       "        text-align: right;\n",
       "    }\n",
       "</style>\n",
       "<table border=\"1\" class=\"dataframe\">\n",
       "  <thead>\n",
       "    <tr style=\"text-align: right;\">\n",
       "      <th></th>\n",
       "    </tr>\n",
       "  </thead>\n",
       "  <tbody>\n",
       "  </tbody>\n",
       "</table>\n",
       "</div>"
      ],
      "text/plain": [
       "Empty DataFrame\n",
       "Columns: []\n",
       "Index: []"
      ]
     },
     "execution_count": 5,
     "metadata": {},
     "output_type": "execute_result"
    }
   ],
   "source": [
    "house_data = pd.DataFrame(house_dict)\n",
    "house_data"
   ]
  },
  {
   "cell_type": "code",
   "execution_count": 6,
   "metadata": {},
   "outputs": [],
   "source": [
    "# Export file as a CSV, without the Pandas index, but with the header\n",
    "house_data.to_csv(\"Output/Q2-2018_Apartment_Data.csv\", index=False, header=True)"
   ]
  },
  {
   "cell_type": "code",
   "execution_count": null,
   "metadata": {},
   "outputs": [],
   "source": []
  },
  {
   "cell_type": "code",
   "execution_count": null,
   "metadata": {},
   "outputs": [],
   "source": []
  }
 ],
 "metadata": {
  "kernelspec": {
   "display_name": "Python 3",
   "language": "python",
   "name": "python3"
  },
  "language_info": {
   "codemirror_mode": {
    "name": "ipython",
    "version": 3
   },
   "file_extension": ".py",
   "mimetype": "text/x-python",
   "name": "python",
   "nbconvert_exporter": "python",
   "pygments_lexer": "ipython3",
   "version": "3.6.4"
  }
 },
 "nbformat": 4,
 "nbformat_minor": 2
}
